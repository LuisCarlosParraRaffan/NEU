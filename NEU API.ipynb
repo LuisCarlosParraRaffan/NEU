{
 "cells": [
  {
   "cell_type": "code",
   "execution_count": 2,
   "metadata": {},
   "outputs": [
    {
     "name": "stdout",
     "output_type": "stream",
     "text": [
      "Archivo guardado como: FronterasNEU_Consultado-2025-02-26_Generado-20250228_005738.xlsx\n"
     ]
    }
   ],
   "source": [
    "import requests\n",
    "import pandas as pd\n",
    "from datetime import datetime\n",
    "from obtener_datos_frontera import obtener_datos_frontera\n",
    "\n",
    "# Leer el archivo Excel con los valores de sic_code\n",
    "sic_codes_df = pd.read_excel('/Users/luiscarlosparraraffan/Desktop/NEU API/FronterasNeu.xlsx', header=None)\n",
    "date = '2025-02-26'\n",
    "\n",
    "# Crear un dataframe vacío para almacenar los resultados\n",
    "Fronteras = pd.DataFrame()\n",
    "\n",
    "# Recorrer todos los valores de sic_code y obtener los datos de frontera\n",
    "for sic_code in sic_codes_df.iloc[:, 0]:\n",
    "    Frontera = obtener_datos_frontera(sic_code, date)\n",
    "    if Frontera is not None:\n",
    "        Fronteras = pd.concat([Fronteras, Frontera], ignore_index=True)\n",
    "\n",
    "# Guardar el DataFrame resultante en un archivo Excel\n",
    "current_time = datetime.now().strftime(\"%Y%m%d_%H%M%S\")\n",
    "file_name = f\"FronterasNEU_Consultado-{date}_Generado-{current_time}.xlsx\"\n",
    "Fronteras.to_excel(file_name, index=False)\n",
    "print(f\"Archivo guardado como: {file_name}\")"
   ]
  }
 ],
 "metadata": {
  "kernelspec": {
   "display_name": "base",
   "language": "python",
   "name": "python3"
  },
  "language_info": {
   "codemirror_mode": {
    "name": "ipython",
    "version": 3
   },
   "file_extension": ".py",
   "mimetype": "text/x-python",
   "name": "python",
   "nbconvert_exporter": "python",
   "pygments_lexer": "ipython3",
   "version": "3.12.7"
  }
 },
 "nbformat": 4,
 "nbformat_minor": 2
}
